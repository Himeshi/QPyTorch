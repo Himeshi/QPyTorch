{
 "cells": [
  {
   "cell_type": "code",
   "execution_count": 3,
   "metadata": {},
   "outputs": [
    {
     "name": "stdout",
     "output_type": "stream",
     "text": [
      "data tensor([-2.1589,  0.6015,  2.2120,  3.6101, -2.7749,  0.1209,  2.4835,  0.4628,\n",
      "        -1.7988,  3.9497,  1.7753, -2.6794, -2.2139,  0.0325, -2.3362,  3.7653,\n",
      "         1.4809, -0.6387, -0.4460, -2.4922], device='cuda:0')\n",
      "quantized tensor([-1.0000,  0.5000,  1.0000,  1.0000, -1.0000,  0.1250,  1.0000,  0.5000,\n",
      "        -1.0000,  1.0000,  1.0000, -1.0000, -1.0000,  0.0312, -1.0000,  1.0000,\n",
      "         1.0000, -0.5000, -0.5000, -1.0000], device='cuda:0')\n",
      "error tensor([-1.1589e+00,  1.0148e-01,  1.2120e+00,  2.6101e+00, -1.7749e+00,\n",
      "        -4.0527e-03,  1.4835e+00, -3.7231e-02, -7.9877e-01,  2.9497e+00,\n",
      "         7.7533e-01, -1.6794e+00, -1.2139e+00,  1.2573e-03, -1.3362e+00,\n",
      "         2.7653e+00,  4.8091e-01, -1.3873e-01,  5.4026e-02, -1.4922e+00],\n",
      "       device='cuda:0')\n"
     ]
    }
   ],
   "source": [
    "import qtorch\n",
    "from qtorch.quant import new_format_quantize, act_format_quantize\n",
    "import numpy as np\n",
    "import torch\n",
    "np.random.seed()\n",
    "data = np.random.rand(20)*8-4\n",
    "data = torch.tensor(data, dtype=torch.float).cuda()\n",
    "\n",
    "quantized_data = new_format_quantize(data)\n",
    "print (\"data\",data)\n",
    "print (\"quantized\",quantized_data)\n",
    "print (\"error\", data-quantized_data)"
   ]
  },
  {
   "cell_type": "code",
   "execution_count": 5,
   "metadata": {},
   "outputs": [
    {
     "name": "stdout",
     "output_type": "stream",
     "text": [
      "data tensor([-2.1589,  0.6015,  2.2120,  3.6101, -2.7749,  0.1209,  2.4835,  0.4628,\n",
      "        -1.7988,  3.9497,  1.7753, -2.6794, -2.2139,  0.0325, -2.3362,  3.7653,\n",
      "         1.4809, -0.6387, -0.4460, -2.4922], device='cuda:0')\n",
      "quantized tensor([-2.2500,  0.6250,  2.2500,  4.0000, -3.0000,  0.1250,  2.2500,  0.4375,\n",
      "        -1.7500,  4.0000,  1.7500, -3.0000, -2.2500,  0.0312, -2.2500,  4.0000,\n",
      "         1.5000, -0.6250, -0.4375, -2.2500], device='cuda:0')\n",
      "error tensor([ 0.0911, -0.0235, -0.0380, -0.3899,  0.2251, -0.0041,  0.2335,  0.0253,\n",
      "        -0.0488, -0.0503,  0.0253,  0.3206,  0.0361,  0.0013, -0.0862, -0.2347,\n",
      "        -0.0191, -0.0137, -0.0085, -0.2422], device='cuda:0')\n"
     ]
    }
   ],
   "source": [
    "quantized_data = act_format_quantize(data)\n",
    "print (\"data\",data)\n",
    "print (\"quantized\",quantized_data)\n",
    "print (\"error\", data-quantized_data)"
   ]
  },
  {
   "cell_type": "code",
   "execution_count": null,
   "metadata": {},
   "outputs": [],
   "source": []
  },
  {
   "cell_type": "code",
   "execution_count": null,
   "metadata": {},
   "outputs": [],
   "source": []
  }
 ],
 "metadata": {
  "kernelspec": {
   "display_name": "Python 3",
   "language": "python",
   "name": "python3"
  },
  "language_info": {
   "codemirror_mode": {
    "name": "ipython",
    "version": 3
   },
   "file_extension": ".py",
   "mimetype": "text/x-python",
   "name": "python",
   "nbconvert_exporter": "python",
   "pygments_lexer": "ipython3",
   "version": "3.7.4"
  }
 },
 "nbformat": 4,
 "nbformat_minor": 4
}
