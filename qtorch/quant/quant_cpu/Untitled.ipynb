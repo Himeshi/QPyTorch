{
 "cells": [
  {
   "cell_type": "code",
   "execution_count": 1,
   "metadata": {},
   "outputs": [
    {
     "name": "stdout",
     "output_type": "stream",
     "text": [
      "Using /tmp/torch_extensions as PyTorch extensions root...\n",
      "Emitting ninja build file /tmp/torch_extensions/quant_cpu/build.ninja...\n",
      "Building extension module quant_cpu...\n",
      "Allowing ninja to set a default number of workers... (overridable by setting the environment variable MAX_JOBS=N)\n",
      "Loading extension module quant_cpu...\n",
      "Using /tmp/torch_extensions as PyTorch extensions root...\n",
      "Creating extension directory /tmp/torch_extensions/quant_cuda...\n",
      "Detected CUDA files, patching ldflags\n",
      "Emitting ninja build file /tmp/torch_extensions/quant_cuda/build.ninja...\n",
      "Building extension module quant_cuda...\n",
      "Allowing ninja to set a default number of workers... (overridable by setting the environment variable MAX_JOBS=N)\n",
      "Loading extension module quant_cuda...\n",
      "data tensor([-1.4118, -1.4099,  2.5959,  2.7075, -1.9986, -2.9335, -2.3056, -2.9305,\n",
      "         1.4163, -3.0530,  2.3410,  0.5252,  3.4976, -3.6402, -1.1614,  0.2602,\n",
      "        -0.9882, -2.4720,  2.4554, -0.0493], device='cuda:0')\n",
      "quantized tensor([-1.0000, -1.0000,  1.0000,  1.0000, -1.0000, -1.0000, -1.0000, -1.0000,\n",
      "         1.0000, -1.0000,  1.0000,  0.5000,  1.0000, -1.0000, -1.0000,  0.2500,\n",
      "        -1.0000, -1.0000,  1.0000, -0.0469], device='cuda:0')\n",
      "error tensor([-4.1176e-01, -4.0985e-01,  1.5959e+00,  1.7075e+00, -9.9859e-01,\n",
      "        -1.9335e+00, -1.3056e+00, -1.9305e+00,  4.1633e-01, -2.0530e+00,\n",
      "         1.3410e+00,  2.5197e-02,  2.4976e+00, -2.6402e+00, -1.6135e-01,\n",
      "         1.0185e-02,  1.1837e-02, -1.4720e+00,  1.4554e+00, -2.3998e-03],\n",
      "       device='cuda:0')\n"
     ]
    }
   ],
   "source": [
    "import qtorch\n",
    "from qtorch.quant import new_format_quantize, act_format_quantize\n",
    "import numpy as np\n",
    "import torch\n",
    "np.random.seed()\n",
    "data = np.random.rand(20)*8-4\n",
    "data = torch.tensor(data, dtype=torch.float).cuda()\n",
    "\n",
    "quantized_data = new_format_quantize(data)\n",
    "print (\"data\",data)\n",
    "print (\"quantized\",quantized_data)\n",
    "print (\"error\", data-quantized_data)"
   ]
  },
  {
   "cell_type": "code",
   "execution_count": 2,
   "metadata": {},
   "outputs": [
    {
     "name": "stdout",
     "output_type": "stream",
     "text": [
      "data tensor([-1.4118, -1.4099,  2.5959,  2.7075, -1.9986, -2.9335, -2.3056, -2.9305,\n",
      "         1.4163, -3.0530,  2.3410,  0.5252,  3.4976, -3.6402, -1.1614,  0.2602,\n",
      "        -0.9882, -2.4720,  2.4554, -0.0493], device='cuda:0')\n",
      "quantized tensor([-1.5000, -1.5000,  2.2500,  3.0000, -2.0000, -3.0000, -2.2500, -3.0000,\n",
      "         1.5000, -3.0000,  2.2500,  0.5000,  3.0000, -4.0000, -1.1250,  0.2500,\n",
      "        -1.0000, -2.2500,  2.2500, -0.0625], device='cuda:0')\n",
      "error tensor([ 0.0882,  0.0901,  0.3459, -0.2925,  0.0014,  0.0665, -0.0556,  0.0695,\n",
      "        -0.0837, -0.0530,  0.0910,  0.0252,  0.4976,  0.3598, -0.0364,  0.0102,\n",
      "         0.0118, -0.2220,  0.2054,  0.0132], device='cuda:0')\n"
     ]
    }
   ],
   "source": [
    "quantized_data = act_format_quantize(data)\n",
    "print (\"data\",data)\n",
    "print (\"quantized\",quantized_data)\n",
    "print (\"error\", data-quantized_data)"
   ]
  },
  {
   "cell_type": "code",
   "execution_count": null,
   "metadata": {},
   "outputs": [],
   "source": []
  },
  {
   "cell_type": "code",
   "execution_count": null,
   "metadata": {},
   "outputs": [],
   "source": []
  }
 ],
 "metadata": {
  "kernelspec": {
   "display_name": "Python 3",
   "language": "python",
   "name": "python3"
  },
  "language_info": {
   "codemirror_mode": {
    "name": "ipython",
    "version": 3
   },
   "file_extension": ".py",
   "mimetype": "text/x-python",
   "name": "python",
   "nbconvert_exporter": "python",
   "pygments_lexer": "ipython3",
   "version": "3.7.4"
  }
 },
 "nbformat": 4,
 "nbformat_minor": 4
}
