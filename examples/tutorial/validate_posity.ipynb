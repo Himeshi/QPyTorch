{
 "cells": [
  {
   "cell_type": "markdown",
   "id": "2cc173b3",
   "metadata": {},
   "source": [
    "Generate a random float."
   ]
  },
  {
   "cell_type": "code",
   "execution_count": 96,
   "id": "eac9f11c",
   "metadata": {},
   "outputs": [
    {
     "name": "stdout",
     "output_type": "stream",
     "text": [
      "357.10458183408736\n"
     ]
    }
   ],
   "source": [
    "import random\n",
    "import struct\n",
    "import numpy as np\n",
    "import torch\n",
    "import qtorch\n",
    "from qtorch.quant import posit_quantize\n",
    "from qtorch.quant import convert_to_posit\n",
    "\n",
    "testfloat=random.random()*1e3\n",
    "print(testfloat)"
   ]
  },
  {
   "cell_type": "markdown",
   "id": "eb25ead9",
   "metadata": {},
   "source": [
    "Extract sign, exponent and fraction"
   ]
  },
  {
   "cell_type": "code",
   "execution_count": 97,
   "id": "b15ff679",
   "metadata": {},
   "outputs": [
    {
     "name": "stdout",
     "output_type": "stream",
     "text": [
      "<class 'float'>\n",
      "Input float: 357.10458183408736\n",
      "Sign bit     : 0 (value: 1)\n",
      "Exponent bits: 10000000111 (value: 1031 => unbiased: 8)\n",
      "Fraction bits: 0110010100011010110001011110000000000101001010010011\n",
      "Fraction value: 1.3949397727894035\n",
      "Reconstructed value (approx): 357.1045818340873\n"
     ]
    }
   ],
   "source": [
    "def float_to_bits(f):\n",
    "    # Pack float into 8 bytes, then unpack as 64-bit unsigned int\n",
    "    packed = struct.pack('>d', f)  # Big endian double\n",
    "    integer_representation = int.from_bytes(packed, byteorder='big')\n",
    "    return integer_representation\n",
    "\n",
    "def extract_components(f):\n",
    "    bits = float_to_bits(f)\n",
    "\n",
    "    # Extract sign (1 bit), exponent (11 bits), and fraction (52 bits)\n",
    "    sign = (bits >> 63) & 0x1\n",
    "    exponent = (bits >> 52) & 0x7FF\n",
    "    fraction = bits & ((1 << 52) - 1)\n",
    "\n",
    "    # Compute values\n",
    "    sign_val = (-1) ** sign\n",
    "    exponent_val = exponent - 1023  # Bias for double-precision is 1023\n",
    "    print(type(1 * (2 ** -(1 + 1))))\n",
    "    fraction_val = 1 + sum(\n",
    "        [((fraction & (1 << (52 - i))) >> (51 - i)) * (1 * (2 ** -(i + 1))) for i in range(52)]\n",
    "    ) if exponent != 0 else sum(\n",
    "        [((fraction & (1 << (52 - i))) >> (51 - i)) * 1 * (2 ** -(i + 1)) for i in range(52)]\n",
    "    )\n",
    "\n",
    "    # Format binary strings\n",
    "    sign_bits = f\"{sign:b}\"\n",
    "    exponent_bits = f\"{exponent:011b}\"\n",
    "    fraction_bits = f\"{fraction:052b}\"\n",
    "\n",
    "    print(f\"Input float: {f}\")\n",
    "    print(f\"Sign bit     : {sign_bits} (value: {sign_val})\")\n",
    "    print(f\"Exponent bits: {exponent_bits} (value: {exponent} => unbiased: {exponent_val})\")\n",
    "    print(f\"Fraction bits: {fraction_bits}\")\n",
    "    print(f\"Fraction value: {fraction_val}\")\n",
    "    print(f\"Reconstructed value (approx): {sign_val * (2 ** exponent_val) * fraction_val}\")\n",
    "\n",
    "extract_components(testfloat)\n"
   ]
  },
  {
   "cell_type": "markdown",
   "id": "ed885598",
   "metadata": {},
   "source": [
    "Convert float value to posit."
   ]
  },
  {
   "cell_type": "code",
   "execution_count": 98,
   "id": "f8dc6967",
   "metadata": {},
   "outputs": [
    {
     "name": "stdout",
     "output_type": "stream",
     "text": [
      "28874\n",
      "0b111000011001010\n"
     ]
    }
   ],
   "source": [
    "n = 16\n",
    "e = 2\n",
    "float_tensor = torch.tensor(testfloat, dtype=torch.float)\n",
    "b = (convert_to_posit(float_tensor, nsize=n, es=e)).item()\n",
    "posit_bit_string = bin(b)\n",
    "print(b)\n",
    "print(posit_bit_string)"
   ]
  },
  {
   "cell_type": "markdown",
   "id": "2868fae6",
   "metadata": {},
   "source": [
    "Extract sign, regime, exponent and fraction from posit."
   ]
  },
  {
   "cell_type": "code",
   "execution_count": 99,
   "id": "a6fd52fa",
   "metadata": {},
   "outputs": [],
   "source": [
    "#Function to count leading ones\n",
    "def count_leading_ones(n):\n",
    "    binary_str = bin(n)[2:]\n",
    "    count = 0\n",
    "    for digit in binary_str:\n",
    "        if digit == '1':\n",
    "            count += 1\n",
    "        else:\n",
    "            break\n",
    "    return count"
   ]
  },
  {
   "cell_type": "code",
   "execution_count": 100,
   "id": "f8bf343a",
   "metadata": {},
   "outputs": [
    {
     "name": "stdout",
     "output_type": "stream",
     "text": [
      "sign: 0\n",
      "regime: 2\n",
      "exponent: 0\n",
      "total exponent: 8\n",
      "fraction: 1.39453125\n",
      "posit value: 357.0\n"
     ]
    }
   ],
   "source": [
    "sign = b & (1 << n)\n",
    "posit_without_sign = np.uint16(b << 1)\n",
    "regime_bits = count_leading_ones(posit_without_sign)\n",
    "posit_without_regime = np.uint16(posit_without_sign << (regime_bits + 1))\n",
    "exponent_bits = posit_without_regime >> (n - e)\n",
    "fraction_size = n - regime_bits - 1 - e\n",
    "fraction_bits = (posit_without_regime << 2) >> (n - fraction_size)\n",
    "fraction = 1 + (fraction_bits / 2**fraction_size)\n",
    "useed = 2**(2**e)\n",
    "posit_value = useed**(regime_bits - 1) * 2**exponent_bits\n",
    "posit_value = posit_value * fraction\n",
    "total_exponent = (2**e) * (regime_bits - 1) + exponent_bits\n",
    "\n",
    "print(f\"sign: {sign}\")\n",
    "print(f\"regime: {regime_bits - 1}\")\n",
    "print(f\"exponent: {exponent_bits}\")\n",
    "print(f\"total exponent: {total_exponent}\")\n",
    "print(f\"fraction: {fraction}\")\n",
    "print(f\"posit value: {posit_value}\")"
   ]
  }
 ],
 "metadata": {
  "kernelspec": {
   "display_name": "conga25env (3.10.4)",
   "language": "python",
   "name": "python3"
  },
  "language_info": {
   "codemirror_mode": {
    "name": "ipython",
    "version": 3
   },
   "file_extension": ".py",
   "mimetype": "text/x-python",
   "name": "python",
   "nbconvert_exporter": "python",
   "pygments_lexer": "ipython3",
   "version": "3.10.4"
  }
 },
 "nbformat": 4,
 "nbformat_minor": 5
}
